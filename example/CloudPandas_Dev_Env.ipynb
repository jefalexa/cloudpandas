{
 "cells": [
  {
   "cell_type": "markdown",
   "id": "2861d3d3-fa87-42be-a4a1-3944c1357167",
   "metadata": {},
   "source": [
    "# CloudPandas Development Environment\n",
    "\n",
    "This is a sample development environment for working with CloudPandas.  Where applicable change the input parameters to match your environment, then press Shift+Enter to run the cell.  "
   ]
  },
  {
   "cell_type": "markdown",
   "id": "a389098f-2463-4d22-9e2c-67a06b398294",
   "metadata": {},
   "source": [
    "## Import Modules"
   ]
  },
  {
   "cell_type": "code",
   "execution_count": null,
   "id": "e52b9053-cb5c-4f6d-b3f4-98b8bd0231d5",
   "metadata": {},
   "outputs": [],
   "source": [
    "import pandas as pd\n",
    "import cloudpandas"
   ]
  },
  {
   "cell_type": "markdown",
   "id": "42cfa2e1-ad84-498f-bafe-2a14f72027f1",
   "metadata": {},
   "source": [
    "## Setup CloudPandas Client\n",
    "\n",
    "Get your user_token from CloudPandas --> Profile --> Get Token\n",
    "\n",
    "https://www.cloudpandas.com/account/tokenget/\n",
    "\n",
    "_Warning:  Treat your user_token the same as you would a password.  Do not upload it to GitHub or otherwise share it._"
   ]
  },
  {
   "cell_type": "code",
   "execution_count": null,
   "id": "57507cc4-b7f7-4a00-9e67-40932503b66e",
   "metadata": {},
   "outputs": [],
   "source": [
    "user_token = \"aaabbbccc111222333\"\n",
    "client = cloudpandas.Client(user_token)"
   ]
  },
  {
   "cell_type": "markdown",
   "id": "f2677a2b-e1fa-4f34-b945-47c5b9254c30",
   "metadata": {},
   "source": [
    "## List DataProviders\n",
    "This allows you to see what Data Providers are configured in your account.  "
   ]
  },
  {
   "cell_type": "code",
   "execution_count": null,
   "id": "cbc83617-0ad8-481d-8d37-1fbfbacf1a4b",
   "metadata": {},
   "outputs": [],
   "source": [
    "client.dataproviders.list()"
   ]
  },
  {
   "cell_type": "markdown",
   "id": "c8a930cb-b456-4627-a5cb-68f6797a09c6",
   "metadata": {},
   "source": [
    "## List Sheets\n",
    "You can list the sheets in a Data Provider.  This can be very useful for getting the sheet ID to work with instead of using the sheet name.  \n",
    "\n",
    "Parameters:  \n",
    "- provider_id:  String with the name or ID of the Data Provider"
   ]
  },
  {
   "cell_type": "code",
   "execution_count": null,
   "id": "297d2a0d-68c1-47d0-aae7-dd24904736d5",
   "metadata": {
    "tags": []
   },
   "outputs": [],
   "source": [
    "client.sheets.list(\"Google\")"
   ]
  },
  {
   "cell_type": "markdown",
   "id": "76d88657-b4d5-4889-9145-76a655daa7aa",
   "metadata": {},
   "source": [
    "## Sheets Info\n",
    "Get information about a specific sheet, such as modified time and any sub_sheets.  \n",
    "\n",
    "Parameters:  \n",
    "- provider_id:  String with the name or ID of the Data Provider\n",
    "- sheet_id:  String with the name or ID of the sheet.  "
   ]
  },
  {
   "cell_type": "code",
   "execution_count": null,
   "id": "5a836044-f50b-4482-b725-c49eb27da04e",
   "metadata": {},
   "outputs": [],
   "source": [
    "client.sheets.info(\"Google\", \"CloudPandas Test 01\")"
   ]
  },
  {
   "cell_type": "markdown",
   "id": "40c8e66b-68ed-4275-9168-6a728f8d705b",
   "metadata": {},
   "source": [
    "## Get Sheet Data\n",
    "This command will get the data from the sheet specified and return it as a Pandas DataFrame.  Save the DataFrame to work with.  \n",
    "\n",
    "Parameters:  \n",
    "- provider_id:  String with the name or ID of the Data Provider\n",
    "- sheet_id:  String with the name or ID of the sheet.  \n",
    "- sub_sheet:  For files that support sub sheets, such as the sheets within an Excel file, allows a specific sub sheet to be chosen.  Input options are the index number (defaults to 0, the first sheet in the workbook) or the name.  \n",
    "- skip_rows:  For CSV and Excel files, allows header rows to be skipped.  Defaults to 0.  "
   ]
  },
  {
   "cell_type": "code",
   "execution_count": null,
   "id": "63686624-c82d-4c91-91e8-b4705c2b5c3d",
   "metadata": {},
   "outputs": [],
   "source": [
    "df = client.sheets.get(\"Google\", \"CloudPandas Test 01\")"
   ]
  },
  {
   "cell_type": "code",
   "execution_count": null,
   "id": "c2ec1aa1-c989-4bc8-bbab-7374cd122c27",
   "metadata": {},
   "outputs": [],
   "source": [
    "df"
   ]
  },
  {
   "cell_type": "markdown",
   "id": "47fe4ecd-d209-4625-a849-bb47e0c65a24",
   "metadata": {},
   "source": [
    "## Update Sheet Data\n",
    "Write a DataFrame to an existing sheet online.  \n",
    "\n",
    "Parameters:  \n",
    "- data:  Pandas DataFrame with the data you with to write\n",
    "- provider_id:  String with the name or ID of the Data Provider\n",
    "- sheet_id:  String with the name or ID of the sheet.  \n",
    "- sub_sheet:  For files that support sub sheets, such as the sheets within an Excel file, allows a specific sub sheet to be chosen.  Input options are the index number (defaults to 0, the first sheet in the workbook) or the name.   \n",
    "\n",
    "_Warning:  Be sure you know what sheet and sub_sheet you are updating, as this command will overwrite existing data_"
   ]
  },
  {
   "cell_type": "code",
   "execution_count": null,
   "id": "e91812a7-4451-4d38-8a60-10ed70840a07",
   "metadata": {},
   "outputs": [],
   "source": [
    "client.sheets.update(df, \"Google\", \"CloudPandas Test 01\")"
   ]
  },
  {
   "cell_type": "markdown",
   "id": "0aef2170-c20b-45aa-8f2d-a27c7e2e97f9",
   "metadata": {},
   "source": [
    "## Create New Sheet\n",
    "Write a DataFrame to a new sheet online.  This will create a new sheet.  \n",
    "\n",
    "Parameters:  \n",
    "- data:  Pandas DataFrame with the data you with to write\n",
    "- provider_id:  String with the name or ID of the Data Provider\n",
    "- sheet_name:  he Name of the sheet/file to be created\n",
    "- sub_sheet:  Where supported, the name of the sub sheet.  Defaults to Sheet1  \n",
    "- sheet_type:  What type of object to create. sheet = GoogleSheets or SmartSheets.  xlsx and csv = file. "
   ]
  },
  {
   "cell_type": "code",
   "execution_count": null,
   "id": "ecb78222-cbec-4d57-8229-7ca76a2078d1",
   "metadata": {},
   "outputs": [],
   "source": [
    "client.sheets.create(df, \"Google\", \"CloudPandas Test 02\")"
   ]
  },
  {
   "cell_type": "markdown",
   "id": "39c42db5-866b-4552-a4b5-0d2f5b1a35b5",
   "metadata": {},
   "source": [
    "## Delete a Sheet\n",
    "Delete a specific sheet from the Data Provider.  \n",
    "\n",
    "Parameters:  \n",
    "- provider_id:  String with the name or ID of the Data Provider\n",
    "- sheet_id:  String with the name or ID of the sheet.  \n",
    "\n",
    "_Warning:  This command will destroy data, be sure you know what sheet you are deleting_"
   ]
  },
  {
   "cell_type": "code",
   "execution_count": null,
   "id": "7c9be113-7ebf-45db-addb-b50b8e58ee3d",
   "metadata": {},
   "outputs": [],
   "source": [
    "client.sheets.delete(\"Google\", \"CloudPandas Test 02\")"
   ]
  },
  {
   "cell_type": "code",
   "execution_count": null,
   "id": "20ae291e-d2e4-47aa-9cad-1ba5151dbe27",
   "metadata": {},
   "outputs": [],
   "source": []
  }
 ],
 "metadata": {
  "kernelspec": {
   "display_name": "Python 3",
   "language": "python",
   "name": "python3"
  },
  "language_info": {
   "codemirror_mode": {
    "name": "ipython",
    "version": 3
   },
   "file_extension": ".py",
   "mimetype": "text/x-python",
   "name": "python",
   "nbconvert_exporter": "python",
   "pygments_lexer": "ipython3",
   "version": "3.9.5"
  }
 },
 "nbformat": 4,
 "nbformat_minor": 5
}
